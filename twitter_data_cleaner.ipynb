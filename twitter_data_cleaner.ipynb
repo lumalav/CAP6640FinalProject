{
 "cells": [
  {
   "cell_type": "code",
   "execution_count": 44,
   "metadata": {},
   "outputs": [
    {
     "output_type": "stream",
     "name": "stderr",
     "text": [
      "C:\\Users\\luis.lavierihernande\\Anaconda3\\envs\\py37\\lib\\site-packages\\dateutil\\parser\\_parser.py:1218: UnknownTimezoneWarning: tzname EST identified but not understood.  Pass `tzinfos` argument in order to correctly return a timezone-aware datetime.  In a future version, this will raise an exception.\n  category=UnknownTimezoneWarning)\n"
     ]
    },
    {
     "output_type": "execute_result",
     "data": {
      "text/plain": [
       "              created_at                                              tweet  \\\n",
       "1566 2020-12-19 19:32:52  @bigtitstrader XLM cause I like the way they n...   \n",
       "1565 2020-12-20 00:45:32  If you're doing Coinbases \"earn rewards\":  Up ...   \n",
       "1564 2020-12-20 03:11:05  Just remembered about my XLM Stellar Lumens wa...   \n",
       "1562 2020-12-20 04:47:57  Stellar Lumens free #cryptocurrency #StellarLu...   \n",
       "1561 2020-12-20 05:52:27  @PRX0202 @kaboom12344 I think the stars are ab...   \n",
       "\n",
       "     language mentions                                               urls  \\\n",
       "1566       en       []                                                 []   \n",
       "1565       en       []  ['https://coinbase.com/earn/comp/invite/y5c9fs...   \n",
       "1564       en       []                                                 []   \n",
       "1562       en       []  ['https://coinbase.com/earn/xlm/invite/4t038b9c']   \n",
       "1561       en       []                                                 []   \n",
       "\n",
       "     photos  replies_count  retweets_count  likes_count  \\\n",
       "1566     []              1               0            2   \n",
       "1565     []              1               1            2   \n",
       "1564     []              0               0            1   \n",
       "1562     []              0               0            0   \n",
       "1561     []              0               0            2   \n",
       "\n",
       "                                 hashtags cashtags  \n",
       "1566                                   []       []  \n",
       "1565                                   []       []  \n",
       "1564   ['xlm', 'crypto', 'stellarlumens']       []  \n",
       "1562  ['cryptocurrency', 'stellarlumens']       []  \n",
       "1561                                   []       []  "
      ],
      "text/html": "<div>\n<style scoped>\n    .dataframe tbody tr th:only-of-type {\n        vertical-align: middle;\n    }\n\n    .dataframe tbody tr th {\n        vertical-align: top;\n    }\n\n    .dataframe thead th {\n        text-align: right;\n    }\n</style>\n<table border=\"1\" class=\"dataframe\">\n  <thead>\n    <tr style=\"text-align: right;\">\n      <th></th>\n      <th>created_at</th>\n      <th>tweet</th>\n      <th>language</th>\n      <th>mentions</th>\n      <th>urls</th>\n      <th>photos</th>\n      <th>replies_count</th>\n      <th>retweets_count</th>\n      <th>likes_count</th>\n      <th>hashtags</th>\n      <th>cashtags</th>\n    </tr>\n  </thead>\n  <tbody>\n    <tr>\n      <th>1566</th>\n      <td>2020-12-19 19:32:52</td>\n      <td>@bigtitstrader XLM cause I like the way they n...</td>\n      <td>en</td>\n      <td>[]</td>\n      <td>[]</td>\n      <td>[]</td>\n      <td>1</td>\n      <td>0</td>\n      <td>2</td>\n      <td>[]</td>\n      <td>[]</td>\n    </tr>\n    <tr>\n      <th>1565</th>\n      <td>2020-12-20 00:45:32</td>\n      <td>If you're doing Coinbases \"earn rewards\":  Up ...</td>\n      <td>en</td>\n      <td>[]</td>\n      <td>['https://coinbase.com/earn/comp/invite/y5c9fs...</td>\n      <td>[]</td>\n      <td>1</td>\n      <td>1</td>\n      <td>2</td>\n      <td>[]</td>\n      <td>[]</td>\n    </tr>\n    <tr>\n      <th>1564</th>\n      <td>2020-12-20 03:11:05</td>\n      <td>Just remembered about my XLM Stellar Lumens wa...</td>\n      <td>en</td>\n      <td>[]</td>\n      <td>[]</td>\n      <td>[]</td>\n      <td>0</td>\n      <td>0</td>\n      <td>1</td>\n      <td>['xlm', 'crypto', 'stellarlumens']</td>\n      <td>[]</td>\n    </tr>\n    <tr>\n      <th>1562</th>\n      <td>2020-12-20 04:47:57</td>\n      <td>Stellar Lumens free #cryptocurrency #StellarLu...</td>\n      <td>en</td>\n      <td>[]</td>\n      <td>['https://coinbase.com/earn/xlm/invite/4t038b9c']</td>\n      <td>[]</td>\n      <td>0</td>\n      <td>0</td>\n      <td>0</td>\n      <td>['cryptocurrency', 'stellarlumens']</td>\n      <td>[]</td>\n    </tr>\n    <tr>\n      <th>1561</th>\n      <td>2020-12-20 05:52:27</td>\n      <td>@PRX0202 @kaboom12344 I think the stars are ab...</td>\n      <td>en</td>\n      <td>[]</td>\n      <td>[]</td>\n      <td>[]</td>\n      <td>0</td>\n      <td>0</td>\n      <td>2</td>\n      <td>[]</td>\n      <td>[]</td>\n    </tr>\n  </tbody>\n</table>\n</div>"
     },
     "metadata": {},
     "execution_count": 44
    }
   ],
   "source": [
    "import pandas as pd\n",
    "\n",
    "data = pd.read_csv('Data\\\\tweet_results_4_11.csv', parse_dates=['created_at'])\n",
    "data = data[data['language'] == 'en']\n",
    "data = data.sort_values(by='created_at')\n",
    "data.head()"
   ]
  },
  {
   "cell_type": "code",
   "execution_count": 45,
   "metadata": {
    "tags": []
   },
   "outputs": [],
   "source": [
    "import json\n",
    "import contractions\n",
    "import string\n",
    "import re\n",
    "\n",
    "table = str.maketrans(dict.fromkeys(string.punctuation))\n",
    "contractions.add('shoulda', 'should have')\n",
    "\n",
    "regrex_pattern = re.compile(\"[\"\n",
    "                               u\"\\U0001F600-\\U0001F64F\"  # emoticons\n",
    "                               u\"\\U0001F300-\\U0001F5FF\"  # symbols & pictographs\n",
    "                               u\"\\U0001F680-\\U0001F6FF\"  # transport & map symbols\n",
    "                               u\"\\U0001F1E0-\\U0001F1FF\"  # flags (iOS)\n",
    "                               u\"\\U00002500-\\U00002BEF\"  # chinese char\n",
    "                               u\"\\U00002702-\\U000027B0\"\n",
    "                               u\"\\U00002702-\\U000027B0\"\n",
    "                               u\"\\U000024C2-\\U0001F251\"\n",
    "                               u\"\\U0001f926-\\U0001f937\"\n",
    "                               u\"\\U00010000-\\U0010ffff\"\n",
    "                               u\"\\u2640-\\u2642\"\n",
    "                               u\"\\u2600-\\u2B55\"\n",
    "                               u\"\\u200d\"\n",
    "                               u\"\\u23cf\"\n",
    "                               u\"\\u23e9\"\n",
    "                               u\"\\u231a\"\n",
    "                               u\"\\ufe0f\"  # dingbats\n",
    "                               u\"\\u3030\"\n",
    "                               \"]+\", flags=re.UNICODE)\n",
    "\n",
    "def fixer(row):\n",
    "    tweet = row['tweet'].lower()\n",
    "    for mention in json.loads(str(row['mentions']).replace('\\'', '\"')):\n",
    "        tweet = tweet.replace(str('@') + str(mention['screen_name']), '')\n",
    "    for hashtag in json.loads(str(row['hashtags']).replace('\\'', '\"')):\n",
    "        tweet = tweet.replace(str('#') + hashtag, '') \n",
    "    for cashtag in json.loads(str(row['cashtags']).replace('\\'', '\"')):\n",
    "        tweet = tweet.replace(str('#') + cashtag, '')\n",
    "\n",
    "    try:\n",
    "        tweet = contractions.fix(tweet)\n",
    "    except:\n",
    "        tweet = tweet\n",
    "\n",
    "    tweet = re.sub(r'\\w+:\\/{2}[\\d\\w-]+(\\.[\\d\\w-]+)*(?:(?:\\/[^\\s/]*))*', '', tweet)\n",
    "    tweet = re.sub(r'@[\\d|\\w]*', '', tweet)\n",
    "    tweet = re.sub(r'#[\\d|\\w]*', '', tweet)\n",
    "    tweet = regrex_pattern.sub(r'',tweet)\n",
    "\n",
    "    tweet = tweet.lower().translate(table)\n",
    "    tweet = ' '.join(tweet.split())\n",
    "    \n",
    "    \n",
    "    return tweet\n",
    "\n",
    "data['tweet'] = [fixer(row) for ind, row in data.iterrows()]"
   ]
  },
  {
   "cell_type": "code",
   "execution_count": 47,
   "metadata": {},
   "outputs": [],
   "source": [
    "data = data.drop('language', 1)\n",
    "data = data.drop('mentions', 1)\n",
    "data = data.drop('urls', 1)\n",
    "data = data.drop('photos', 1)\n",
    "data = data.drop('cashtags', 1)\n",
    "data = data.drop('hashtags', 1)\n",
    "\n",
    "data.head()\n",
    "data.to_csv('Data\\\\tweet_results_4_11_2.csv')"
   ]
  }
 ],
 "metadata": {
  "kernelspec": {
   "display_name": "Python 3",
   "language": "python",
   "name": "python3"
  },
  "language_info": {
   "codemirror_mode": {
    "name": "ipython",
    "version": 3
   },
   "file_extension": ".py",
   "mimetype": "text/x-python",
   "name": "python",
   "nbconvert_exporter": "python",
   "pygments_lexer": "ipython3",
   "version": "3.7.9-final"
  }
 },
 "nbformat": 4,
 "nbformat_minor": 2
}